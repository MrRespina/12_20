{
 "cells": [
  {
   "cell_type": "code",
   "execution_count": 9,
   "id": "f5992aa0-6859-4b7a-9189-ab68de349351",
   "metadata": {},
   "outputs": [
    {
     "name": "stdout",
     "output_type": "stream",
     "text": [
      "{'name': 'J', 'age': 29, 'height': 178.5}\n",
      "이숭무\n",
      "J\n",
      "35\n",
      "29\n",
      "176.5\n",
      "178.5\n",
      "숭\n"
     ]
    }
   ],
   "source": [
    "#딕셔너리 : (map , json) : Key&Value를 쌍으로 사용하는 것\n",
    "l = [] # 빈 리스트\n",
    "t = () # 빈 튜플\n",
    "dic = {} # 빈 딕셔너리\n",
    "dic = {\"name\" : \"J\",\"age\" : 29,\"height\" : 178.5}\n",
    "print(dic)\n",
    "\n",
    "l = ['이숭무',35,176.5]\n",
    "print(l[0])     # [index]\n",
    "print(dic['name'])   # [키]\n",
    "print(l[1])\n",
    "print(dic['age'])\n",
    "print(l[2])\n",
    "print(dic['height'])\n",
    "\n",
    "dic = {1: '이',0: '숭',2:'무'}     # 키가 정수라면 인덱스와 혼재될 수 있기 때문에, 딕셔너리는 인덱스 사용 불가\n",
    "print(dic[0]) # [키]"
   ]
  },
  {
   "cell_type": "code",
   "execution_count": 14,
   "id": "baf8aa90-e7e6-4497-a18e-2892ac2856d7",
   "metadata": {},
   "outputs": [
    {
     "name": "stdout",
     "output_type": "stream",
     "text": [
      "J의 나이는 29살 이고 키는 178.5cm 입니다.\n",
      "{'name': 'J', 'age': 29, 'height': 178.5}\n",
      "J의 나이는 29살 이고 키는 178.5cm 입니다.\n",
      "J의 나이는 29살 이고 키는 178.5cm 입니다.\n"
     ]
    }
   ],
   "source": [
    "name = 'J'\n",
    "age = 29\n",
    "height = 178.5\n",
    "print(f'{name}의 나이는 {age}살 이고 키는 {height}cm 입니다.')\n",
    "\n",
    "dic = {\"name\" : \"J\",\"age\" : 29,\"height\" : 178.5}\n",
    "li = ['J',29,178.5]\n",
    "print(dic)\n",
    "print(f'{dic['name']}의 나이는 {dic['age']}살 이고 키는 {dic['height']}cm 입니다.')\n",
    "print(f'{li[0]}의 나이는 {li[1]}살 이고 키는 {li[2]}cm 입니다.')"
   ]
  },
  {
   "cell_type": "code",
   "execution_count": 20,
   "id": "980b3469-4769-48fb-ab96-be55ccf1adcf",
   "metadata": {},
   "outputs": [
    {
     "name": "stdout",
     "output_type": "stream",
     "text": [
      "Ji의 나이는 29살 이고 키는 178.5cm 입니다.\n",
      "{'name': 'Ji', 'age': 29, 'height': 178.5, 'addr': '646-19호'}\n",
      "{1: '숭'}\n",
      "{1: '숭'}\n"
     ]
    }
   ],
   "source": [
    "dic = {\"name\" : \"J\",\"age\" : 29,\"height\" : 178.5}\n",
    "li = ['J',29,178.5]\n",
    "dic['name'] = 'Ji'\n",
    "print(f'{dic['name']}의 나이는 {dic['age']}살 이고 키는 {dic['height']}cm 입니다.')\n",
    "#li[3] = '성남' index out of range\n",
    "\n",
    "dic['addr'] = '646-19호'\n",
    "print(dic)\n",
    "# 딕셔너리는 키가 있으면 수정이 되고 키가 없으면 추가가 된다.\n",
    "\n",
    "dic2 = {1:'이',1:'숭'}\n",
    "print(dic2)    # 키의 중복을 허용하지 않음.\n",
    "dic3 = {1:'이'}\n",
    "\n",
    "dic3[1] = '숭'\n",
    "print(dic3)\n",
    "\n",
    "# 딕셔너리는 index를 사용하지 않으므로 indexing과 slicing을 할 수 없다.\n",
    "# indexing과 slicing을 사용 할 수 있는 자료형 : 문자열, 리스트, 튜플"
   ]
  },
  {
   "cell_type": "code",
   "execution_count": 30,
   "id": "ddda5179-e47c-4a97-957c-c8f7f73540c7",
   "metadata": {},
   "outputs": [
    {
     "name": "stdout",
     "output_type": "stream",
     "text": [
      "[1, 3, 4]\n",
      "{'name': 'J', 'height': 178.5, 'addr': '646-19호'}\n",
      "[1, 3]\n",
      "[4]\n",
      "[]\n",
      "{'name': 'J', 'height': 178.5, 'addr': '646-19호'}\n",
      "{}\n"
     ]
    }
   ],
   "source": [
    "dic = {\"name\" : \"J\",\"age\" : 29,\"height\" : 178.5,'addr' : '646-19호'}\n",
    "l = [1,2,3,4]\n",
    "\n",
    "# 요소 삭제\n",
    "\n",
    "del l[1]\n",
    "print(l)\n",
    "del dic['age']\n",
    "print(dic)\n",
    "print(l[0:0+2])\n",
    "\n",
    "# slicing을 이용하여 삭제가 가능하다.\n",
    "del l[0:0+2]\n",
    "print(l)\n",
    "\n",
    "# l.clear() or \n",
    "del l[:]\n",
    "print(l)\n",
    "\n",
    "# 딕셔너리 전체 삭제\n",
    "print(dic)\n",
    "dic.clear()\n",
    "print(dic)"
   ]
  },
  {
   "cell_type": "code",
   "execution_count": 41,
   "id": "bd521486-5a60-44b3-a05d-37fcb3979c09",
   "metadata": {},
   "outputs": [
    {
     "name": "stdout",
     "output_type": "stream",
     "text": [
      "dict_keys(['name', 'age', 'height', 'addr'])\n",
      "dict_values(['J', 29, 178.5, '646-19호'])\n",
      "dict_items([('name', 'J'), ('age', 29), ('height', 178.5), ('addr', '646-19호')])\n",
      "['name', 'age', 'height', 'addr']\n",
      "['J', 29, 178.5, '646-19호']\n",
      "[('name', 'J'), ('age', 29), ('height', 178.5), ('addr', '646-19호')]\n"
     ]
    }
   ],
   "source": [
    "# 딕셔너리에 있는 키를 가져오기\n",
    "dic = {\"name\" : \"J\",\"age\" : 29,\"height\" : 178.5,'addr' : '646-19호'}\n",
    "lkeys = dic.keys()\n",
    "print(dic.keys())\n",
    "\n",
    "\n",
    "# 딕셔너리에 있는 값을 가져오기\n",
    "print(dic.values())\n",
    "\n",
    "# 딕셔너리에 있는 키와 값을 쌍으로 묶어서 가져오기 (튜플)\n",
    "print(dic.items())\n",
    "\n",
    "# 딕셔너리 값을 리스트로\n",
    "lkeys = list(dic.keys())\n",
    "print(lkeys)\n",
    "\n",
    "lvalues = list(dic.values())\n",
    "print(lvalues)\n",
    "\n",
    "litems = list(dic.items())\n",
    "print(litems)"
   ]
  },
  {
   "cell_type": "code",
   "execution_count": 51,
   "id": "b4664429-71ff-4352-9713-249b7bb97131",
   "metadata": {},
   "outputs": [
    {
     "name": "stdout",
     "output_type": "stream",
     "text": [
      "J\n",
      "J\n",
      "None\n",
      "서울\n",
      "500\n",
      "500\n",
      "1000\n",
      "1400\n",
      "900\n"
     ]
    }
   ],
   "source": [
    "dic = {\"name\" : \"J\",\"age\" : 29,\"height\" : 178.5}\n",
    "print(dic['name'])\n",
    "print(dic.get('name'))\n",
    "print(dic.get('addr'))  # 키 값이 없어도, None을 리턴해줘서 오류가 나지 않음!\n",
    "print(dic.get('addr' , '서울'))  # 키가 없다면 초기값을 정해줄 수 있다.\n",
    "\n",
    "# get() 함수 응용\n",
    "d1 = {'classic':500,'pop':700,'jazz':900}\n",
    "d2 = {'classic':500,'pop':700}\n",
    "\n",
    "print(d1['classic'])\n",
    "print(d2['classic'])\n",
    "print(d1['classic'] + d2['classic']) # 정수 + 정수\n",
    "print(d1['pop'] + d2['pop'])\n",
    "print(d1.get('jazz') + d2.get('jazz',0)) # 기초 값 지정하여 get쓰면 오류가 안 남."
   ]
  },
  {
   "cell_type": "code",
   "execution_count": 62,
   "id": "994b799a-271d-4424-b77a-934d40bca6a3",
   "metadata": {},
   "outputs": [
    {
     "name": "stdout",
     "output_type": "stream",
     "text": [
      "{1, 2, 3, 4, 5}\n",
      "{1, 2, 3, 4, 5, 6, 7, 8}\n",
      "{1, 2, 3, 4, 5, 6, 7, 8}\n",
      "{4, 5}\n",
      "{4, 5}\n",
      "{1, 2, 3}\n",
      "{1, 2, 3}\n",
      "{1, 2, 3, 6, 7, 8}\n"
     ]
    }
   ],
   "source": [
    "# 집합 자료형(python)\n",
    "\n",
    "# 빈 집합은 존재할 수 없다.\n",
    "ss = {}  # 집합이 아니라 빈 딕셔너리 취급.\n",
    "ss = {1,2,3,4,5}  # {}에 값만 존재하면 집합 자료형이다!\n",
    "print(ss)\n",
    "# 합집합(union) / SELECT mem_id,mem_name,mem_email FROM member UNION SELECT emp_id,emp_name,emp_email FROM employee\n",
    "s1 = {1,2,3,4,5}\n",
    "s2 = {4,5,6,7,8}\n",
    "print(s1.union(s2))\n",
    "print(s1 | s2)\n",
    "\n",
    "# 교집합(intersect/intersection) / SELECT mem_id,mem_tel FROM member INTERSECT SELECT meme_id receive_tel FROM purchase\n",
    "print(s1.intersection(s2))\n",
    "print(s1 & s2)\n",
    "\n",
    "# 차집합\n",
    "print(s1 - s2) # 교집합을 제거\n",
    "print(s1.difference(s2))\n",
    "\n",
    "print(s1.union(s2) - s1.intersection(s2))\n",
    "\n",
    "# 집합 자료형에는 합집합,교집합,차집합 연산을 한다."
   ]
  },
  {
   "cell_type": "code",
   "execution_count": 74,
   "id": "6bc434e1-a34b-435c-b7c1-fce8b50819f0",
   "metadata": {},
   "outputs": [
    {
     "name": "stdout",
     "output_type": "stream",
     "text": [
      "{1, 2, 3, 4, 5}\n",
      "[1, 2, 3, 4, 5]\n",
      "(1, 2, 3, 4, 5)\n",
      "{1, 2, 3, 4, 5}a\n",
      "bbaacc\n",
      "{1, 2, 3, 4, 5}\n",
      "{1, 2, 3, 4, 5}\n",
      "hello\n",
      "{'o', 'h', 'l', 'e'}\n"
     ]
    }
   ],
   "source": [
    "ss = {1,1,2,2,3,3,4,4,5,5} # 집합 자료형은 중복 데이터를 허용하지 않는다.\n",
    "print(ss)\n",
    "\n",
    "l = list(ss) # 집합 자료형을 리스트로 형변환\n",
    "print(l)\n",
    "\n",
    "t = tuple(ss)\n",
    "print(t)\n",
    "\n",
    "str1 = str(ss)\n",
    "print(str1 + \"a\")\n",
    "\n",
    "ss2 = {'aa','bb','cc'}  # 집합 자료형은 순서가 없다!\n",
    "print(\"\".join(ss2))\n",
    "\n",
    "l = [1,2,3,4,5]\n",
    "s2 = set(l)\n",
    "print(s2)\n",
    "s3 = set(t)\n",
    "print(s3)\n",
    "\n",
    "# 형변환 함수 : int, str, list, tuple, set, float\n",
    "str1 = \"hello\"\n",
    "print(str1)\n",
    "\n",
    "s4 = set(str1) # 집합 자료형은 순서 없이 저장, 중복 허용하지 않음!\n",
    "print(s4)"
   ]
  },
  {
   "cell_type": "code",
   "execution_count": 84,
   "id": "1f54f35c-b652-4f96-a296-c71ad5b94c7c",
   "metadata": {},
   "outputs": [
    {
     "name": "stdout",
     "output_type": "stream",
     "text": [
      "{1, 2, 3, 4}\n",
      "{1, 2, 3, 4, 7}\n",
      "{1, 2, 3, 4, 7, 'a'}\n",
      "{1, 2, 3, 4, 7, 8, 9, 10, 'a'}\n",
      "{1, 2, 3, 4, 7, 8, 9, 10, 11, 12, 'a', 23}\n",
      "{1, 2, 3, 4, 7, 8, 9, 10, 11, 12, 23}\n",
      "set()\n"
     ]
    }
   ],
   "source": [
    "# 하나의 요소 추가\n",
    "# add\n",
    "s1 = {1,2,3,4}\n",
    "s1.add(4) # 집합 자료형은 중복을 허용하지 않기 때문에, 추가가 되지 않음.\n",
    "print(s1)\n",
    "\n",
    "s1.add(7)\n",
    "print(s1)\n",
    "\n",
    "s1.add('a')\n",
    "print(s1)\n",
    "\n",
    "# 여러개의 데이터를 한번에 추가\n",
    "\n",
    "# update\n",
    "s1.update((8,9,10))\n",
    "print(s1)\n",
    "\n",
    "s1.update([11,12,23])    # 리스트로도 추가 가능함.\n",
    "print(s1)\n",
    "\n",
    "# 삭제\n",
    "s1.remove('a')\n",
    "print(s1)\n",
    "s1.clear()\n",
    "print(s1)"
   ]
  },
  {
   "cell_type": "code",
   "execution_count": 90,
   "id": "efcda819-157d-44be-9c06-9d2057c7f32d",
   "metadata": {},
   "outputs": [
    {
     "name": "stdout",
     "output_type": "stream",
     "text": [
      "<class 'int'>\n",
      "<class 'float'>\n",
      "<class 'list'>\n",
      "<class 'tuple'>\n",
      "<class 'dict'>\n",
      "<class 'set'>\n",
      "<class 'bool'>\n"
     ]
    }
   ],
   "source": [
    "# bool : true/false\n",
    "i = 10\n",
    "f = 10.5\n",
    "str1 = \"이숭무\"\n",
    "l = [1,2,3,4,5]\n",
    "t = (1,2,3,4,5)\n",
    "dic = {1:'이',2:'숭'}\n",
    "s1 = {1,2,3,4}\n",
    "b1 = True\n",
    "b2 = False\n",
    "b3 = \"true\"\n",
    "# b4 = true   에러남.true를 변수로 취급.\n",
    "\n",
    "# 데이터의 자료형을 알고 싶을 때 : type()\n",
    "print(type(i))\n",
    "print(type(f))\n",
    "print(type(l))\n",
    "print(type(t))\n",
    "print(type(dic))\n",
    "print(type(s1))\n",
    "print(type(b1))"
   ]
  },
  {
   "cell_type": "code",
   "execution_count": 130,
   "id": "c8fd64d4-8dc8-4f03-86cc-3a4aeefdb6d4",
   "metadata": {},
   "outputs": [
    {
     "name": "stdout",
     "output_type": "stream",
     "text": [
      "True\n",
      "True\n",
      "True\n",
      "합격\n",
      "평년\n"
     ]
    }
   ],
   "source": [
    "# bool 타입을 사용하는 때 : and, or\n",
    "# 논리 연산\n",
    "res = True and True\n",
    "print(res)\n",
    "res = True or False\n",
    "print(res)\n",
    "\n",
    "# 결과값이 bool 타입인 경우에 사용 : 비교(관계) 연산\n",
    "i = 10\n",
    "j = 20\n",
    "res = i < j      # 비교 연산의 결과는 bool\n",
    "print(res)\n",
    "# 논리 연산을 하기 위해서는 비교 연산과 같이 사용해야 함.\n",
    "# 모든 과목이 40점 이상이고, 평균이 60 이상이면 True 아니면 False\n",
    "eng = 40\n",
    "kor = 80\n",
    "if (eng >=40 and kor >=40) and ((eng + kor) / 2 >= 60):\n",
    "    print(\"합격\")\n",
    "else:\n",
    "    print(\"불합격\")\n",
    "# 윤년과 평년 구하기\n",
    "year = 2100\n",
    "if (((year % 4 == 0) and (year % 100 != 0)) or ( year % 400 == 0 ) ):\n",
    "    res = \"윤년\"\n",
    "else:\n",
    "    res = \"평년\"\n",
    "print(res)"
   ]
  },
  {
   "cell_type": "code",
   "execution_count": 145,
   "id": "93d3b166-64f3-48d7-84a7-f990f34143bc",
   "metadata": {},
   "outputs": [
    {
     "name": "stdout",
     "output_type": "stream",
     "text": [
      "<class 'str'>\n",
      "<class 'int'>\n",
      "True\n",
      "True\n",
      "False\n",
      "True\n",
      "False\n",
      "False\n",
      "False\n",
      "False\n",
      "False\n"
     ]
    }
   ],
   "source": [
    "# 변환 함수 : int( ), str(), list(), tuple(), set(), *bool():참 or 거짓으로\n",
    "i = 10\n",
    "print(type(str(i)))\n",
    "print(type(i))\n",
    "\n",
    "# 값이 blank(\"\")가 아닌 모든 문자열은 True로 반환된다.\n",
    "print(bool(i))\n",
    "print(bool('123'))\n",
    "print(bool(\"\"))\n",
    "\n",
    "print(bool(-1))    # 음수이던 양수이던 blank가 아니라 True이다.\n",
    "print(bool(0))    # 0은 False이다.\n",
    "\n",
    "print(bool([]))   # 빈 리스트도 False\n",
    "print(bool(()))   # 빈 튜플도 False\n",
    "print(bool({}))   # 빈 딕셔너리도 False\n",
    "print(bool(None)) # None은 False"
   ]
  },
  {
   "cell_type": "code",
   "execution_count": 158,
   "id": "aa9c7bfa-98df-40ef-8bd0-4e2834ca01db",
   "metadata": {},
   "outputs": [
    {
     "name": "stdout",
     "output_type": "stream",
     "text": [
      "20 100\n",
      "100 20\n"
     ]
    }
   ],
   "source": [
    "# 값 서로 교환하기\n",
    "i = 100\n",
    "j = 20\n",
    "\n",
    "# i가 가진 값을 j 에게 주고 j가 가진 값을 i 에게 저장\n",
    "temp = i\n",
    "i = j\n",
    "j = temp\n",
    "print(i,j)\n",
    "\n",
    "# 파이썬으로는 이런 식으로도 사용이 가능.\n",
    "i,j = j,i\n",
    "print(i,j)"
   ]
  },
  {
   "cell_type": "code",
   "execution_count": 171,
   "id": "65e9167d-4fbb-43fa-8c6b-845f0fbe8d00",
   "metadata": {},
   "outputs": [
    {
     "name": "stdout",
     "output_type": "stream",
     "text": [
      "True\n",
      "False\n",
      "True\n",
      "True\n",
      "True\n",
      "True\n",
      "False\n",
      "False\n",
      "True\n",
      "True\n",
      "True\n",
      "True\n",
      "True\n"
     ]
    }
   ],
   "source": [
    "# in 연산자\n",
    "print(1 in [1,2,3,4])\n",
    "print(7 in [1,2,3,4])\n",
    "l = [1,2,3,4]\n",
    "print(4 in l)\n",
    "print(7 not in l)\n",
    "print('y' in 'pyton')\n",
    "str1 = 'hello'\n",
    "print('he' in str1)\n",
    "print('bb' in str1)\n",
    "print('he' not in str1)\n",
    "print('b' not in str1)\n",
    "print(5 in (1,2,3,4,5))\n",
    "dic = {1:'j',2:'b',3:'c'}\n",
    "print(1 in dic)  # 딕셔너리는 키가 있는지 확인함.\n",
    "print(4 not in dic)\n",
    "print(5 in {1,2,3,4,5})"
   ]
  },
  {
   "cell_type": "code",
   "execution_count": 172,
   "id": "1e3998b8-3415-46df-aa2b-636f0b8bf584",
   "metadata": {},
   "outputs": [
    {
     "name": "stdout",
     "output_type": "stream",
     "text": [
      "100 200\n",
      "(1, 2, 3, 4)\n",
      "100 200\n",
      "100 200\n",
      "100 200\n",
      "10 20 30\n"
     ]
    }
   ],
   "source": [
    "x,y = 100,200\n",
    "print(x,y)\n",
    "\n",
    "t = 1,2,3,4\n",
    "print(t)\n",
    "\n",
    "(x,y) = (100,200)\n",
    "print(x,y)\n",
    "\n",
    "(x,y) = 100,200\n",
    "print(x,y)\n",
    "\n",
    "[x,y] = 100,200\n",
    "print(x,y)\n",
    "\n",
    "x,y,z = 10,20,30   # 인자와 주는 값의 갯수가 일치해야한다.\n",
    "print(x,y,z)"
   ]
  },
  {
   "cell_type": "code",
   "execution_count": 180,
   "id": "3bf6ed22-a13f-4755-9cf0-167dc4a2b84f",
   "metadata": {},
   "outputs": [
    {
     "name": "stdout",
     "output_type": "stream",
     "text": [
      "포함됨\n",
      "포함됨!\n",
      "i가 20보다 작다.\n",
      "True!\n",
      "i가 크다\n"
     ]
    }
   ],
   "source": [
    "if 1 in [1,2,3,4]:\n",
    "    print('포함됨')\n",
    "else:\n",
    "    print('포함되지 않음')\n",
    "\n",
    "if 1 not in[1,2,3,4]:\n",
    "    print('포함되지 않음!')\n",
    "else:\n",
    "    print('포함됨!')\n",
    "\n",
    "i = 10\n",
    "    \n",
    "# 파이썬 명령문을 작성시에는 들여쓰기 안하면 에러남.\n",
    "# 들여쓰기는 공백 문자를 이용하거나 TAB키를 이용할 수 있다.\n",
    "# 하지만 여러가지 들여쓰기를 혼용할 수 없다.\n",
    "\n",
    "if i < 20:\n",
    "    print('i가 20보다 작다.')\n",
    "    print('True!')\n",
    "if i < 20:\n",
    "    pass   # 넘기기\n",
    "    print('i가 크다')"
   ]
  },
  {
   "cell_type": "code",
   "execution_count": 190,
   "id": "caea3b7a-697b-4775-b448-92da52030f8e",
   "metadata": {},
   "outputs": [
    {
     "name": "stdout",
     "output_type": "stream",
     "text": [
      "나의 점수는 88점, 등급은 B\n",
      "B\n"
     ]
    }
   ],
   "source": [
    "score = 88\n",
    "if score >= 90:\n",
    "    grade = 'A'\n",
    "elif score >= 80:\n",
    "    grade = 'B'\n",
    "elif score >= 70:\n",
    "    grade = 'C'\n",
    "elif score >= 60:\n",
    "    grade = 'D'\n",
    "else:\n",
    "    grad = 'F'\n",
    "\n",
    "print(f'나의 점수는 {score}점, 등급은 {grade}')\n",
    "message = \"A\" if score >= 90 else(\n",
    "          \"B\" if score >= 80 else(\n",
    "          \"C\" if score >= 70 else(\n",
    "          \"D\" if score >= 60 else\n",
    "          \"F\"\n",
    "          )))\n",
    "print(message)"
   ]
  },
  {
   "cell_type": "code",
   "execution_count": 185,
   "id": "14131990-a211-431b-8f8c-0f8f202a2154",
   "metadata": {},
   "outputs": [
    {
     "name": "stdout",
     "output_type": "stream",
     "text": [
      "나의 점수는 88점, 등급은 B+\n"
     ]
    }
   ],
   "source": [
    "if score >= 95:\n",
    "    grade = 'A+'\n",
    "elif score >= 90:\n",
    "    grade = 'A'\n",
    "elif score >= 85:\n",
    "    grade = 'B+'\n",
    "elif score >= 80:\n",
    "    grade = 'B'\n",
    "elif score >= 75:\n",
    "    grade = 'C+'\n",
    "elif score >= 70:\n",
    "    grade = 'C'\n",
    "elif score >= 65:\n",
    "    grade = 'D+'\n",
    "elif score >= 60:\n",
    "    grade = 'D'\n",
    "else:\n",
    "    grad = 'F'\n",
    "\n",
    "print(f'나의 점수는 {score}점, 등급은 {grade}')"
   ]
  },
  {
   "cell_type": "code",
   "execution_count": 191,
   "id": "f2eb0fdd-630c-41cf-948d-b5a38412de37",
   "metadata": {},
   "outputs": [
    {
     "name": "stdout",
     "output_type": "stream",
     "text": [
      "success\n",
      "success\n"
     ]
    }
   ],
   "source": [
    "score = 78\n",
    "if score >= 60:\n",
    "    message = 'success'\n",
    "else:\n",
    "    message = 'failure'\n",
    "\n",
    "print(message)\n",
    "\n",
    "# 파이썬 타입으로 변경\n",
    "message = \"success\" if score >= 60 else \"failure\"\n",
    "print(message)"
   ]
  },
  {
   "cell_type": "code",
   "execution_count": 197,
   "id": "581653c3-4e5a-4d9e-b428-b1abee2040c6",
   "metadata": {},
   "outputs": [
    {
     "name": "stdout",
     "output_type": "stream",
     "text": [
      "30\n",
      "10 & 20\n"
     ]
    }
   ],
   "source": [
    "# switch-case 는 없는 이유가, 딕셔너리가 똑같은 역할을 수행할 수 있기 떄문이다.\n",
    "\n",
    "a = 10; b = 20; opt = \"\"\n",
    "if opt == \"add\":\n",
    "    message = a + b\n",
    "elif opt == \"sub\":\n",
    "    message = a - b\n",
    "elif opt == \"mul\":\n",
    "    message = a * b\n",
    "elif opt == \"div\":\n",
    "    message = a / b\n",
    "else:\n",
    "    message = a + b\n",
    "print(message)\n",
    "\n",
    "message = a + b if opt == \"add\" else(\n",
    "          a - b if opt == \"sub\" else(\n",
    "          a * b if opt == \"mul\" else(\n",
    "          a / b if opt == \"div\" else\n",
    "          str(a)+\" & \"+str(b)\n",
    "          )))\n",
    "print(message)"
   ]
  },
  {
   "cell_type": "code",
   "execution_count": null,
   "id": "fd523711-b10e-4f20-8a54-fa071ddfd507",
   "metadata": {},
   "outputs": [],
   "source": [
    "# 반복문 : 반복적으로 사용해야 하는 명령어\n",
    "i = 1\n",
    "while i <= 10:\n",
    "    print(f'나무를 {i}번 찍었습니다.')\n",
    "    i += 1   # 대입 연산자\n"
   ]
  },
  {
   "cell_type": "code",
   "execution_count": 206,
   "id": "b10b1fe1-a7b4-4c20-8330-4a7601e532cd",
   "metadata": {},
   "outputs": [
    {
     "name": "stdin",
     "output_type": "stream",
     "text": [
      "시작 숫자를 입력해주세요 :  1\n",
      "마지막 숫자를 입력해주세요 :  2\n",
      "단 수는 ? : 5\n"
     ]
    },
    {
     "name": "stdout",
     "output_type": "stream",
     "text": [
      "5 * 1 = 5\n",
      "5 * 2 = 10\n"
     ]
    }
   ],
   "source": [
    "start = int(input(\"시작 숫자를 입력해주세요 : \"))\n",
    "end = int(input(\"마지막 숫자를 입력해주세요 : \"))\n",
    "dan = int(input(\"단 수는 ? :\"))\n",
    "while start <= end:\n",
    "    print(f'{dan} * {start} = {dan * start}')\n",
    "    start += 1"
   ]
  },
  {
   "cell_type": "code",
   "execution_count": 320,
   "id": "26c6e18d-42d5-448a-af92-3f6764f64e3c",
   "metadata": {},
   "outputs": [
    {
     "name": "stdout",
     "output_type": "stream",
     "text": [
      "[2, 3, 4, 5, 6, 7, 8, 9, 10, 12, 14, 15, 16, 17, 18, 19, 20, 21, 22, 23, 24, 25, 26, 27, 28, 29, 30, 33, 34, 35, 36, 38, 39, 40, 41, 42, 43, 44, 45]\n",
      "[31, 1, 32, 37, 11, 13]\n"
     ]
    }
   ],
   "source": [
    "import random      #.py = java의 .class \n",
    "# 로또?\n",
    "l = []\n",
    "lnum = []\n",
    "i = 1\n",
    "while i <= 45:\n",
    "    l.append(i)\n",
    "    i += 1   # python은 i++가 없음.\n",
    "\n",
    "cnt = 1\n",
    "while cnt <= 6:\n",
    "    idx = random.randint(0,(len(l)-cnt))\n",
    "    res = l.pop(idx)\n",
    "    lnum.append(res) \n",
    "    cnt += 1\n",
    "    \n",
    "print(l)\n",
    "print(lnum)"
   ]
  },
  {
   "cell_type": "code",
   "execution_count": 326,
   "id": "b6547a16-b28e-43f1-bdbb-6a8c0b75556b",
   "metadata": {},
   "outputs": [
    {
     "name": "stdout",
     "output_type": "stream",
     "text": [
      "9 * 1 = 9\n",
      "9 * 2 = 18\n",
      "9 * 3 = 27\n",
      "9 * 4 = 36\n",
      "9 * 5 = 45\n",
      "9 * 6 = 54\n",
      "9 * 7 = 63\n",
      "9 * 8 = 72\n",
      "9 * 9 = 81\n"
     ]
    }
   ],
   "source": [
    "# 함수 만들기!\n",
    "def printGuGu(dan,i=1):\n",
    "    while i<=9:\n",
    "        print(f'{dan} * {i} = {dan * i}')\n",
    "        i += 1\n",
    "\n",
    "printGuGu(9)"
   ]
  },
  {
   "cell_type": "code",
   "execution_count": 341,
   "id": "c456b543-7870-46a8-8c44-746062c3b4ca",
   "metadata": {},
   "outputs": [
    {
     "name": "stdout",
     "output_type": "stream",
     "text": [
      "8 * 1 = 8\n",
      "8 * 2 = 16\n",
      "8 * 3 = 24\n",
      "8 * 4 = 32\n",
      "8 * 5 = 40\n",
      "8 * 6 = 48\n",
      "8 * 7 = 56\n",
      "8 * 8 = 64\n"
     ]
    }
   ],
   "source": [
    "def goGuGu(start,end,dan):\n",
    "    while start<=end:\n",
    "        print(f'{dan} * {start} = {dan * start}')\n",
    "        start += 1\n",
    "\n",
    "goGuGu(1,8,8)"
   ]
  },
  {
   "cell_type": "code",
   "execution_count": 342,
   "id": "50f7024a-9a1e-46fe-a363-319d847b5c87",
   "metadata": {},
   "outputs": [
    {
     "name": "stdin",
     "output_type": "stream",
     "text": [
      "시작 단 수 : 1\n",
      "끝낼 단 수 : 8\n",
      "시작 곱 수 : 27\n",
      "끝낼 곱 수 수 : 7\n"
     ]
    },
    {
     "name": "stdout",
     "output_type": "stream",
     "text": [
      "******************************\n",
      "******************************\n",
      "******************************\n",
      "******************************\n",
      "******************************\n",
      "******************************\n",
      "******************************\n",
      "******************************\n"
     ]
    }
   ],
   "source": [
    "startDan = int(input(\"시작 단 수 :\"))\n",
    "endDan = int(input(\"끝낼 단 수 :\"))\n",
    "startGop = int(input(\"시작 곱 수 :\"))\n",
    "endGop = int(input(\"끝낼 곱 수 수 :\"))\n",
    "while startDan <= endDan: \n",
    "\n",
    "    gop = startGop\n",
    "    while gop <=endGop:\n",
    "        \n",
    "        print(f'{startDan} * {gop} = {startDan * gop}')\n",
    "        gop += 1\n",
    "        \n",
    "    print('*'*30)\n",
    "    startDan += 1"
   ]
  },
  {
   "cell_type": "code",
   "execution_count": 346,
   "id": "ec1602d7-ac44-469a-a93f-a731f2792e8b",
   "metadata": {},
   "outputs": [
    {
     "name": "stdin",
     "output_type": "stream",
     "text": [
      "몇장이나 구매하시겠어요? 5\n"
     ]
    },
    {
     "name": "stdout",
     "output_type": "stream",
     "text": [
      "[20, 39, 11, 6, 13, 10]\n",
      "******************************\n",
      "[5, 26, 2, 37, 16, 20]\n",
      "******************************\n",
      "[43, 12, 6, 27, 15, 33]\n",
      "******************************\n",
      "[16, 33, 3, 12, 17, 38]\n",
      "******************************\n",
      "[43, 2, 21, 7, 17, 26]\n",
      "******************************\n"
     ]
    }
   ],
   "source": [
    "import random\n",
    "mynum = int(input(\"몇장이나 구매하시겠어요?\"))\n",
    "no = 1\n",
    "while no <= mynum:\n",
    "    l = []\n",
    "    lnum = []\n",
    "    i = 1\n",
    "    while i <= 45:\n",
    "        l.append(i)\n",
    "        i += 1   # python은 i++가 없음.\n",
    "    \n",
    "    cnt = 1\n",
    "    while cnt <= 6:\n",
    "        idx = random.randint(0,(len(l)-cnt))\n",
    "        res = l.pop(idx)\n",
    "        lnum.append(res) \n",
    "        cnt += 1\n",
    "        \n",
    "    print(lnum)\n",
    "    print('*'*30)\n",
    "    no += 1"
   ]
  },
  {
   "cell_type": "code",
   "execution_count": 351,
   "id": "60496aaf-bf16-486a-88a0-9388fbfb95d5",
   "metadata": {},
   "outputs": [
    {
     "name": "stdout",
     "output_type": "stream",
     "text": [
      "0 + 1 = 1\n",
      "1 + 2 = 3\n",
      "3 + 3 = 6\n",
      "6 + 4 = 10\n",
      "10 + 5 = 15\n",
      "15 + 6 = 21\n",
      "21 + 7 = 28\n",
      "28 + 8 = 36\n",
      "36 + 9 = 45\n",
      "45 + 10 = 55\n",
      "55 + 11 = 66\n",
      "66 + 12 = 78\n",
      "78 + 13 = 91\n",
      "91 + 14 = 105\n",
      "105 + 15 = 120\n",
      "120 + 16 = 136\n",
      "136 + 17 = 153\n",
      "153 + 18 = 171\n",
      "171 + 19 = 190\n",
      "190\n"
     ]
    }
   ],
   "source": [
    "def calc(start,end):\n",
    "    sums = 0\n",
    "    for i in range(start,end,1):\n",
    "        print(f'{sums} + {i} = {sums+i}')\n",
    "        sums += i\n",
    "    print(sums)\n",
    "\n",
    "calc(1,20)"
   ]
  }
 ],
 "metadata": {
  "kernelspec": {
   "display_name": "Python 3 (ipykernel)",
   "language": "python",
   "name": "python3"
  },
  "language_info": {
   "codemirror_mode": {
    "name": "ipython",
    "version": 3
   },
   "file_extension": ".py",
   "mimetype": "text/x-python",
   "name": "python",
   "nbconvert_exporter": "python",
   "pygments_lexer": "ipython3",
   "version": "3.12.1"
  }
 },
 "nbformat": 4,
 "nbformat_minor": 5
}
